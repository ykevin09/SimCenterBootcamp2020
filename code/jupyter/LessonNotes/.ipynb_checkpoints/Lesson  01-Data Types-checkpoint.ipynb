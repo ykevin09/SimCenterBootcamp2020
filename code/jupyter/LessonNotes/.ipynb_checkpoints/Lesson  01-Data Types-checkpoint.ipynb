{
 "cells": [
  {
   "cell_type": "markdown",
   "metadata": {},
   "source": [
    "# A Python Quick Start Tutorial\n",
    "# Lesson \\#1: Basic data types and functions\n",
    "## by Peter Mackenzie-Helnwein\n",
    "University of Washington, Seattle, WA\n",
    "\n",
    "pmackenz@uw.edu          \n",
    "https://www.ce.washington.edu/facultyfinder/peter-mackenzie-helnwein"
   ]
  },
  {
   "cell_type": "markdown",
   "metadata": {},
   "source": [
    "## Resources\n",
    "\n",
    "   1. Python Docs: https://docs.python.org/3/\n",
    "   \n",
    "   1. Python Tutorial (comprehensive): https://docs.python.org/3/tutorial/index.html\n",
    "   \n",
    "   1. Python Library Reference (the nitty-gritty details): https://docs.python.org/3/library/index.html\n",
    "   \n",
    "   1. Everything else: http://google.com\n",
    "   "
   ]
  },
  {
   "cell_type": "markdown",
   "metadata": {},
   "source": [
    "## Discussing questions from the self-study assignment\n",
    "\n",
    "This section is to discuss your questions\n"
   ]
  },
  {
   "cell_type": "markdown",
   "metadata": {},
   "source": [
    "### Exercise 1\n",
    "\n",
    "**Theory**:\n",
    "Stress transformation\n",
    "\n",
    "$$\n",
    "\\begin{aligned}\n",
    "\\sigma_{x}' &= \\sigma_{x} \\cos^2\\theta + \\sigma_{y} \\sin^2\\theta + 2\\tau_{xy} \\sin\\theta \\cos\\theta \\\\\n",
    "\\sigma_{y}' &= \\sigma_{x} \\sin^2\\theta + \\sigma_{y} \\cos^2\\theta - 2\\tau_{xy} \\sin\\theta \\cos\\theta \\\\\n",
    "\\tau_{xy}'  &= (\\sigma_{y} - \\sigma_{x}) \\sin\\theta \\cos\\theta + \\tau_{xy} (\\cos^2\\theta - \\sin^2\\theta) \\\\\n",
    "\\end{aligned}\n",
    "$$\n",
    "\n",
    "**Given**:\n",
    "Stress state:\n",
    "\n",
    "$$\n",
    "\\sigma_{x} = 12~ksi~,\n",
    "~~~\n",
    "\\sigma_{y} = -5.5~ksi~,\n",
    "~~~\n",
    "\\tau_{xy} = 3.5~ksi \n",
    "$$\n",
    "\n",
    "**Find**:\n",
    "Components of stress in a rotated coordinate system for $\\theta=25^\\circ$."
   ]
  },
  {
   "cell_type": "code",
   "execution_count": 1,
   "metadata": {},
   "outputs": [],
   "source": [
    "# theta needs to be in radians\n",
    "# sin and cos are not part of phython\n",
    "\n",
    "from math import sin, cos, pi, radians"
   ]
  },
  {
   "cell_type": "code",
   "execution_count": 2,
   "metadata": {},
   "outputs": [
    {
     "data": {
      "text/plain": [
       "1.5707963267948966"
      ]
     },
     "execution_count": 2,
     "metadata": {},
     "output_type": "execute_result"
    }
   ],
   "source": [
    "radians(90)"
   ]
  },
  {
   "cell_type": "code",
   "execution_count": 3,
   "metadata": {},
   "outputs": [],
   "source": [
    "from math import sin, cos, radians\n",
    "\n",
    "sigma_x = 12.0\n",
    "sigma_y = -5.5\n",
    "tau_xy  = 3.5\n",
    "\n",
    "theta = radians(25.)\n",
    "\n",
    "sx  = sigma_x * cos(theta)**2 + sigma_y * sin(theta)**2 + 2*tau_xy * sin(theta) * cos(theta)\n",
    "sy  = sigma_x * sin(theta)**2 + sigma_y * cos(theta)**2 - 2*tau_xy * sin(theta) * cos(theta)\n",
    "txy = (sigma_y - sigma_x) * sin(theta) * cos(theta) + tau_xy * (cos(theta)**2-sin(theta)**2)"
   ]
  },
  {
   "cell_type": "code",
   "execution_count": 4,
   "metadata": {},
   "outputs": [
    {
     "name": "stdout",
     "output_type": "stream",
     "text": [
      "sigma_x  =  12.0000 ksi\n",
      "sigma_y  =  -5.5000 ksi\n",
      "tau_xy   =   3.5000 ksi\n",
      "sigma_x' =  11.5555 ksi\n",
      "sigma_y' =  -5.0555 ksi\n",
      "tau_xy'  =  -4.4531 ksi\n"
     ]
    }
   ],
   "source": [
    "print(\"sigma_x  = {:8.4f} ksi\".format(sigma_x))\n",
    "print(\"sigma_y  = {:8.4f} ksi\".format(sigma_y))\n",
    "print(\"tau_xy   = {:8.4f} ksi\".format(tau_xy))\n",
    "print(\"sigma_x' = {:8.4f} ksi\".format(sx))\n",
    "print(\"sigma_y' = {:8.4f} ksi\".format(sy))\n",
    "print(\"tau_xy'  = {:8.4f} ksi\".format(txy))"
   ]
  },
  {
   "cell_type": "markdown",
   "metadata": {},
   "source": [
    "### Exercise 2\n",
    "\n",
    "Convert the calculation from exercise 1 to a function"
   ]
  },
  {
   "cell_type": "code",
   "execution_count": 5,
   "metadata": {},
   "outputs": [],
   "source": [
    "def stressTransform(sigx, sigy, tauxy, theta):\n",
    "    # YOUR CODE\n",
    "    th = radians(theta)\n",
    "    \n",
    "    sx  = sigx * cos(th)**2 + sigy * sin(th)**2 + 2*tauxy * sin(th) * cos(th)\n",
    "    sy  = sigx * sin(th)**2 + sigy * cos(th)**2 - 2*tauxy * sin(th) * cos(th)\n",
    "    txy = (sigy - sigx) * sin(th) * cos(th) + tauxy * (cos(th)**2-sin(th)**2)\n",
    "    \n",
    "    return (sx,sy,txy)"
   ]
  },
  {
   "cell_type": "markdown",
   "metadata": {},
   "source": [
    "Test your function for \n",
    "\n",
    "* $\\theta=0$ (what should the result look like?)\n",
    "* $\\theta=25^\\circ$\n",
    "* $\\theta=180^\\circ$"
   ]
  },
  {
   "cell_type": "code",
   "execution_count": 6,
   "metadata": {},
   "outputs": [
    {
     "name": "stdout",
     "output_type": "stream",
     "text": [
      "sigma_x' =  11.5555 ksi\n",
      "sigma_y' =  -5.0555 ksi\n",
      "tau_xy'  =  -4.4531 ksi\n"
     ]
    }
   ],
   "source": [
    "stress = stressTransform(sigx=12, sigy=-5.5, tauxy=3.5, theta=25)\n",
    "print(\"sigma_x' = {:8.4f} ksi\\nsigma_y' = {:8.4f} ksi\\ntau_xy'  = {:8.4f} ksi\".format(*stress))"
   ]
  },
  {
   "cell_type": "code",
   "execution_count": 7,
   "metadata": {},
   "outputs": [
    {
     "name": "stdout",
     "output_type": "stream",
     "text": [
      "sigma_x' =  11.5555 ksi\n",
      "sigma_y' =  -5.0555 ksi\n",
      "tau_xy'  =  -4.4531 ksi\n"
     ]
    }
   ],
   "source": [
    "stress = stressTransform(sigx=12, sigy=-5.5, tauxy=3.5, theta=25)\n",
    "template = \"sigma_x' = {:8.4f} ksi\\nsigma_y' = {:8.4f} ksi\\ntau_xy'  = {:8.4f} ksi\"\n",
    "print(template.format(*stress))"
   ]
  },
  {
   "cell_type": "markdown",
   "metadata": {},
   "source": [
    "### Exercise 3\n",
    "\n",
    "Let's use this function to study stress transformation.  In order to do so,\n",
    "\n",
    "1. Create a list of 81 evenly spaced $\\theta$-values from $0^\\circ$ to $180^\\circ$.\n",
    "2. Compute the transformed stress for each of these values and collect the results in three lists: \n",
    "\n",
    "       sigmax_values = ...\n",
    "       sigmay_values = ...\n",
    "       tauxy_values = ...\n",
    "\n",
    "3. print a nice table with 4 columns: $\\theta$, $\\sigma_x'$, $\\sigma_y'$, $\\tau_{xy}'$"
   ]
  },
  {
   "cell_type": "code",
   "execution_count": 8,
   "metadata": {},
   "outputs": [
    {
     "name": "stdout",
     "output_type": "stream",
     "text": [
      "theta   sigx     sigy      tauxy\n",
      "================================\n",
      "  0.00  12.0000  -5.5000   3.5000\n",
      "  2.25  12.2476  -5.7476   2.8027\n",
      "  4.50  12.4398  -5.9398   2.0881\n",
      "  6.75  12.5753  -6.0753   1.3606\n",
      "  9.00  12.6533  -6.1533   0.6248\n",
      " 11.25  12.6733  -6.1733  -0.1149\n",
      " 13.50  12.6353  -6.1353  -0.8539\n",
      " 15.75  12.5393  -6.0393  -1.5876\n",
      " 18.00  12.3861  -5.8861  -2.3116\n",
      " 20.25  12.1766  -5.6766  -3.0212\n",
      " 22.50  11.9121  -5.4121  -3.7123\n",
      " 24.75  11.5941  -5.0941  -4.3805\n",
      " 27.00  11.2247  -4.7247  -5.0217\n",
      " 29.25  10.8061  -4.3061  -5.6319\n",
      " 31.50  10.3409  -3.8409  -6.2073\n",
      " 33.75   9.8321  -3.3321  -6.7446\n",
      " 36.00   9.2826  -2.7826  -7.2402\n",
      " 38.25   8.6959  -2.1959  -7.6912\n",
      " 40.50   8.0757  -1.5757  -8.0948\n",
      " 42.75   7.4257  -0.9257  -8.4484\n",
      " 45.00   6.7500  -0.2500  -8.7500\n",
      " 47.25   6.0527   0.4473  -8.9976\n",
      " 49.50   5.3381   1.1619  -9.1898\n",
      " 51.75   4.6106   1.8894  -9.3253\n",
      " 54.00   3.8748   2.6252  -9.4033\n",
      " 56.25   3.1351   3.3649  -9.4233\n",
      " 58.50   2.3961   4.1039  -9.3853\n",
      " 60.75   1.6624   4.8376  -9.2893\n",
      " 63.00   0.9384   5.5616  -9.1361\n",
      " 65.25   0.2288   6.2712  -8.9266\n",
      " 67.50  -0.4623   6.9623  -8.6621\n",
      " 69.75  -1.1305   7.6305  -8.3441\n",
      " 72.00  -1.7717   8.2717  -7.9747\n",
      " 74.25  -2.3819   8.8819  -7.5561\n",
      " 76.50  -2.9573   9.4573  -7.0909\n",
      " 78.75  -3.4946   9.9946  -6.5821\n",
      " 81.00  -3.9902  10.4902  -6.0326\n",
      " 83.25  -4.4412  10.9412  -5.4459\n",
      " 85.50  -4.8448  11.3448  -4.8257\n",
      " 87.75  -5.1984  11.6984  -4.1757\n",
      " 90.00  -5.5000  12.0000  -3.5000\n",
      " 92.25  -5.7476  12.2476  -2.8027\n",
      " 94.50  -5.9398  12.4398  -2.0881\n",
      " 96.75  -6.0753  12.5753  -1.3606\n",
      " 99.00  -6.1533  12.6533  -0.6248\n",
      "101.25  -6.1733  12.6733   0.1149\n",
      "103.50  -6.1353  12.6353   0.8539\n",
      "105.75  -6.0393  12.5393   1.5876\n",
      "108.00  -5.8861  12.3861   2.3116\n",
      "110.25  -5.6766  12.1766   3.0212\n",
      "112.50  -5.4121  11.9121   3.7123\n",
      "114.75  -5.0941  11.5941   4.3805\n",
      "117.00  -4.7247  11.2247   5.0217\n",
      "119.25  -4.3061  10.8061   5.6319\n",
      "121.50  -3.8409  10.3409   6.2073\n",
      "123.75  -3.3321   9.8321   6.7446\n",
      "126.00  -2.7826   9.2826   7.2402\n",
      "128.25  -2.1959   8.6959   7.6912\n",
      "130.50  -1.5757   8.0757   8.0948\n",
      "132.75  -0.9257   7.4257   8.4484\n",
      "135.00  -0.2500   6.7500   8.7500\n",
      "137.25   0.4473   6.0527   8.9976\n",
      "139.50   1.1619   5.3381   9.1898\n",
      "141.75   1.8894   4.6106   9.3253\n",
      "144.00   2.6252   3.8748   9.4033\n",
      "146.25   3.3649   3.1351   9.4233\n",
      "148.50   4.1039   2.3961   9.3853\n",
      "150.75   4.8376   1.6624   9.2893\n",
      "153.00   5.5616   0.9384   9.1361\n",
      "155.25   6.2712   0.2288   8.9266\n",
      "157.50   6.9623  -0.4623   8.6621\n",
      "159.75   7.6305  -1.1305   8.3441\n",
      "162.00   8.2717  -1.7717   7.9747\n",
      "164.25   8.8819  -2.3819   7.5561\n",
      "166.50   9.4573  -2.9573   7.0909\n",
      "168.75   9.9946  -3.4946   6.5821\n",
      "171.00  10.4902  -3.9902   6.0326\n",
      "173.25  10.9412  -4.4412   5.4459\n",
      "175.50  11.3448  -4.8448   4.8257\n",
      "177.75  11.6984  -5.1984   4.1757\n",
      "180.00  12.0000  -5.5000   3.5000\n"
     ]
    }
   ],
   "source": [
    "import numpy as np\n",
    "\n",
    "sigmax_values = []\n",
    "sigmay_values = []\n",
    "tauxy_values = []\n",
    "theta = []\n",
    "\n",
    "# YOUR CODE HERE\n",
    "print(\"theta   sigx     sigy      tauxy\")\n",
    "print(\"================================\")\n",
    "for i in range(81):\n",
    "    th = 180*i/80\n",
    "    (sx, sy, txy) = stressTransform(sigx=12, sigy=-5.5, tauxy=3.5, theta=th)\n",
    "    \n",
    "    theta.append(th)\n",
    "    sigmax_values.append(sx)\n",
    "    sigmay_values.append(sy)\n",
    "    tauxy_values.append(txy)\n",
    "    \n",
    "    # print(\"{:6.2f} {:8.4f} {:8.4f} {:8.4f}\".format(th, sx, sy, txy))\n",
    "\n",
    "for item in zip(theta, sigmax_values, sigmay_values, tauxy_values):\n",
    "    print(\"{:6.2f} {:8.4f} {:8.4f} {:8.4f}\".format(*item))"
   ]
  },
  {
   "cell_type": "code",
   "execution_count": 9,
   "metadata": {},
   "outputs": [
    {
     "name": "stderr",
     "output_type": "stream",
     "text": [
      "/Users/myang/.local/lib/python3.9/site-packages/pandas/compat/__init__.py:120: UserWarning: Could not import the lzma module. Your installed Python is incomplete. Attempting to use lzma compression will result in a RuntimeError.\n",
      "  warnings.warn(msg)\n"
     ]
    },
    {
     "data": {
      "text/html": [
       "<div>\n",
       "<style scoped>\n",
       "    .dataframe tbody tr th:only-of-type {\n",
       "        vertical-align: middle;\n",
       "    }\n",
       "\n",
       "    .dataframe tbody tr th {\n",
       "        vertical-align: top;\n",
       "    }\n",
       "\n",
       "    .dataframe thead th {\n",
       "        text-align: right;\n",
       "    }\n",
       "</style>\n",
       "<table border=\"1\" class=\"dataframe\">\n",
       "  <thead>\n",
       "    <tr style=\"text-align: right;\">\n",
       "      <th></th>\n",
       "      <th>theta</th>\n",
       "      <th>sigma_x</th>\n",
       "      <th>sigma_y</th>\n",
       "      <th>tau_xy</th>\n",
       "    </tr>\n",
       "  </thead>\n",
       "  <tbody>\n",
       "    <tr>\n",
       "      <th>0</th>\n",
       "      <td>0.00</td>\n",
       "      <td>12.000000</td>\n",
       "      <td>-5.500000</td>\n",
       "      <td>3.500000</td>\n",
       "    </tr>\n",
       "    <tr>\n",
       "      <th>1</th>\n",
       "      <td>2.25</td>\n",
       "      <td>12.247634</td>\n",
       "      <td>-5.747634</td>\n",
       "      <td>2.802694</td>\n",
       "    </tr>\n",
       "    <tr>\n",
       "      <th>2</th>\n",
       "      <td>4.50</td>\n",
       "      <td>12.439794</td>\n",
       "      <td>-5.939794</td>\n",
       "      <td>2.088108</td>\n",
       "    </tr>\n",
       "    <tr>\n",
       "      <th>3</th>\n",
       "      <td>6.75</td>\n",
       "      <td>12.575296</td>\n",
       "      <td>-6.075296</td>\n",
       "      <td>1.360648</td>\n",
       "    </tr>\n",
       "    <tr>\n",
       "      <th>4</th>\n",
       "      <td>9.00</td>\n",
       "      <td>12.653304</td>\n",
       "      <td>-6.153304</td>\n",
       "      <td>0.624799</td>\n",
       "    </tr>\n",
       "  </tbody>\n",
       "</table>\n",
       "</div>"
      ],
      "text/plain": [
       "   theta    sigma_x   sigma_y    tau_xy\n",
       "0   0.00  12.000000 -5.500000  3.500000\n",
       "1   2.25  12.247634 -5.747634  2.802694\n",
       "2   4.50  12.439794 -5.939794  2.088108\n",
       "3   6.75  12.575296 -6.075296  1.360648\n",
       "4   9.00  12.653304 -6.153304  0.624799"
      ]
     },
     "execution_count": 9,
     "metadata": {},
     "output_type": "execute_result"
    }
   ],
   "source": [
    "import pandas as pd\n",
    "data = np.array([theta, sigmax_values, sigmay_values, tauxy_values])\n",
    "data = data.transpose()\n",
    "df = pd.DataFrame(data, columns=['theta', 'sigma_x', 'sigma_y', 'tau_xy'])\n",
    "df.head()"
   ]
  },
  {
   "cell_type": "markdown",
   "metadata": {},
   "source": [
    "### Exercise 4: Explore plotting in python\n",
    "\n",
    "For this, check out https://matplotlib.org/3.1.1/gallery/lines_bars_and_markers/simple_plot.html#sphx-glr-gallery-lines-bars-and-markers-simple-plot-py\n",
    "\n",
    "I copied the demo code below so you can modify it to plot $(\\sigma_{x}'/\\tau_{xy}')$ and  $(\\sigma_{y}'/-\\tau_{xy}')$ curves from the data collected in `sigmax_values`, `sigmay_values`, `tauxy_values`"
   ]
  },
  {
   "cell_type": "code",
   "execution_count": 10,
   "metadata": {},
   "outputs": [
    {
     "data": {
      "image/png": "[encoded data removed]",
      "text/plain": [
       "<Figure size 432x288 with 1 Axes>"
      ]
     },
     "metadata": {
      "needs_background": "light"
     },
     "output_type": "display_data"
    }
   ],
   "source": [
    "import matplotlib\n",
    "import matplotlib.pyplot as plt\n",
    "import numpy as np\n",
    "\n",
    "# Data for plotting\n",
    "t = np.arange(0.0, 2.0, 0.01)\n",
    "s = 1 + np.sin(2 * np.pi * t)\n",
    "\n",
    "fig, ax = plt.subplots()\n",
    "ax.plot(t, s)\n",
    "\n",
    "ax.set(xlabel='time (s)', ylabel='voltage (mV)',\n",
    "       title='About as simple as it gets, folks')\n",
    "ax.grid()\n",
    "\n",
    "# I comment writing the figure to file ... makes this quicker\n",
    "# fig.savefig(\"test.png\")\n",
    "plt.show()"
   ]
  },
  {
   "cell_type": "code",
   "execution_count": 21,
   "metadata": {},
   "outputs": [
    {
     "data": {
      "image/png": "[encoded data removed]",
      "text/plain": [
       "<Figure size 432x288 with 1 Axes>"
      ]
     },
     "metadata": {
      "needs_background": "light"
     },
     "output_type": "display_data"
    }
   ],
   "source": [
    "# Curves\n",
    "fig, ax = plt.subplots()\n",
    "ax.plot(sigmax_values[0], tauxy_values[0], 'bo')\n",
    "ax.plot(sigmay_values[0], -tauxy_values[0], 'bo')\n",
    "\n",
    "ax.plot(sigmax_values, tauxy_values, 'y-')\n",
    "\n",
    "ax.plot([sigmax_values[0], sigmay_values[0]], [tauxy_values[0], -tauxy_values[0]], 'b--')\n",
    "\n",
    "ax.set_aspect('equal')\n",
    "ax.set_xlabel(r'normal stress $\\sigma$')\n",
    "ax.set_ylabel(r'shear stress $\\tau$')\n",
    "ax.grid(True)\n"
   ]
  },
  {
   "cell_type": "markdown",
   "metadata": {},
   "source": [
    "**Remark**: This was just to wet your appetite! We will talk much more about `numpy` and `matplotlib` next week."
   ]
  },
  {
   "cell_type": "markdown",
   "metadata": {},
   "source": [
    "## Exercise 5: List versus dictionary\n",
    "\n",
    "You could express the stress state as\n",
    "\n",
    "1. three independent variables - the way we did it thus far\n",
    "\n",
    "2. a list of three values: `stress = `$[\\sigma_x, \\sigma_y, \\tau_{xy}]$ and replace\n",
    "\n",
    "        sigma_x --> stress[0]\n",
    "        sigma_y --> stress[2]\n",
    "        tau_xy  --> stress[3]\n",
    "        \n",
    "3. a dictionary \n",
    "\n",
    "        stress = {'sigx': 12.0, 'sigy': -5.5, 'tau':3.50}\n",
    "        \n",
    "   and replace\n",
    "\n",
    "        sigma_x --> stress['sigx']\n",
    "        sigma_y --> stress['sigy']\n",
    "        tau_xy  --> stress['tau']\n",
    "\n",
    "**Discuss**:\n",
    "\n",
    "1. Pros and cons for coding the equations\n",
    "2. Pros and cons for coding the function(s)\n",
    "3. How woud code and function change when switching from 2D to 3D (6 components instead of 3 components)\n",
    "\n",
    "Feel free to implement an alternative form of stressTrannsform() that looks like this:"
   ]
  },
  {
   "cell_type": "code",
   "execution_count": 46,
   "metadata": {},
   "outputs": [],
   "source": [
    "def stressTransform(stress, theta):\n",
    "    # YOUR CODE\n",
    "    # stress2 is a list or dictionary, just as stress is\n",
    "    th = radians(theta)\n",
    "    \n",
    "    sigx, sigy, tauxy = stress['sigx'], stress['sigy'], stress['tau']\n",
    "    \n",
    "    sx  = sigx * cos(th)**2 + sigy * sin(th)**2 + 2*tauxy * sin(th) * cos(th)\n",
    "    sy  = sigx * sin(th)**2 + sigy * cos(th)**2 - 2*tauxy * sin(th) * cos(th)\n",
    "    txy = (sigy - sigx) * sin(th) * cos(th) + tauxy * (cos(th)**2-sin(th)**2)\n",
    "    \n",
    "    stress2 = {'sigx': sx, 'sigy': sy, 'tau': txy}\n",
    "    \n",
    "    return stress2"
   ]
  },
  {
   "cell_type": "code",
   "execution_count": 56,
   "metadata": {},
   "outputs": [
    {
     "name": "stdout",
     "output_type": "stream",
     "text": [
      "  0.00  12.0000  -5.5000   3.5000\n",
      "  2.25  12.2476  -5.7476   2.8027\n",
      "  4.50  12.4398  -5.9398   2.0881\n",
      "  6.75  12.5753  -6.0753   1.3606\n",
      "  9.00  12.6533  -6.1533   0.6248\n",
      " 11.25  12.6733  -6.1733  -0.1149\n",
      " 13.50  12.6353  -6.1353  -0.8539\n",
      " 15.75  12.5393  -6.0393  -1.5876\n",
      " 18.00  12.3861  -5.8861  -2.3116\n",
      " 20.25  12.1766  -5.6766  -3.0212\n",
      " 22.50  11.9121  -5.4121  -3.7123\n",
      " 24.75  11.5941  -5.0941  -4.3805\n",
      " 27.00  11.2247  -4.7247  -5.0217\n",
      " 29.25  10.8061  -4.3061  -5.6319\n",
      " 31.50  10.3409  -3.8409  -6.2073\n",
      " 33.75   9.8321  -3.3321  -6.7446\n",
      " 36.00   9.2826  -2.7826  -7.2402\n",
      " 38.25   8.6959  -2.1959  -7.6912\n",
      " 40.50   8.0757  -1.5757  -8.0948\n",
      " 42.75   7.4257  -0.9257  -8.4484\n",
      " 45.00   6.7500  -0.2500  -8.7500\n",
      " 47.25   6.0527   0.4473  -8.9976\n",
      " 49.50   5.3381   1.1619  -9.1898\n",
      " 51.75   4.6106   1.8894  -9.3253\n",
      " 54.00   3.8748   2.6252  -9.4033\n",
      " 56.25   3.1351   3.3649  -9.4233\n",
      " 58.50   2.3961   4.1039  -9.3853\n",
      " 60.75   1.6624   4.8376  -9.2893\n",
      " 63.00   0.9384   5.5616  -9.1361\n",
      " 65.25   0.2288   6.2712  -8.9266\n",
      " 67.50  -0.4623   6.9623  -8.6621\n",
      " 69.75  -1.1305   7.6305  -8.3441\n",
      " 72.00  -1.7717   8.2717  -7.9747\n",
      " 74.25  -2.3819   8.8819  -7.5561\n",
      " 76.50  -2.9573   9.4573  -7.0909\n",
      " 78.75  -3.4946   9.9946  -6.5821\n",
      " 81.00  -3.9902  10.4902  -6.0326\n",
      " 83.25  -4.4412  10.9412  -5.4459\n",
      " 85.50  -4.8448  11.3448  -4.8257\n",
      " 87.75  -5.1984  11.6984  -4.1757\n",
      " 90.00  -5.5000  12.0000  -3.5000\n",
      " 92.25  -5.7476  12.2476  -2.8027\n",
      " 94.50  -5.9398  12.4398  -2.0881\n",
      " 96.75  -6.0753  12.5753  -1.3606\n",
      " 99.00  -6.1533  12.6533  -0.6248\n",
      "101.25  -6.1733  12.6733   0.1149\n",
      "103.50  -6.1353  12.6353   0.8539\n",
      "105.75  -6.0393  12.5393   1.5876\n",
      "108.00  -5.8861  12.3861   2.3116\n",
      "110.25  -5.6766  12.1766   3.0212\n",
      "112.50  -5.4121  11.9121   3.7123\n",
      "114.75  -5.0941  11.5941   4.3805\n",
      "117.00  -4.7247  11.2247   5.0217\n",
      "119.25  -4.3061  10.8061   5.6319\n",
      "121.50  -3.8409  10.3409   6.2073\n",
      "123.75  -3.3321   9.8321   6.7446\n",
      "126.00  -2.7826   9.2826   7.2402\n",
      "128.25  -2.1959   8.6959   7.6912\n",
      "130.50  -1.5757   8.0757   8.0948\n",
      "132.75  -0.9257   7.4257   8.4484\n",
      "135.00  -0.2500   6.7500   8.7500\n",
      "137.25   0.4473   6.0527   8.9976\n",
      "139.50   1.1619   5.3381   9.1898\n",
      "141.75   1.8894   4.6106   9.3253\n",
      "144.00   2.6252   3.8748   9.4033\n",
      "146.25   3.3649   3.1351   9.4233\n",
      "148.50   4.1039   2.3961   9.3853\n",
      "150.75   4.8376   1.6624   9.2893\n",
      "153.00   5.5616   0.9384   9.1361\n",
      "155.25   6.2712   0.2288   8.9266\n",
      "157.50   6.9623  -0.4623   8.6621\n",
      "159.75   7.6305  -1.1305   8.3441\n",
      "162.00   8.2717  -1.7717   7.9747\n",
      "164.25   8.8819  -2.3819   7.5561\n",
      "166.50   9.4573  -2.9573   7.0909\n",
      "168.75   9.9946  -3.4946   6.5821\n",
      "171.00  10.4902  -3.9902   6.0326\n",
      "173.25  10.9412  -4.4412   5.4459\n",
      "175.50  11.3448  -4.8448   4.8257\n",
      "177.75  11.6984  -5.1984   4.1757\n",
      "180.00  12.0000  -5.5000   3.5000\n",
      "182.25  12.2476  -5.7476   2.8027\n"
     ]
    }
   ],
   "source": [
    "dth = 180/80\n",
    "\n",
    "theta = [0]\n",
    "stress2 = []\n",
    "\n",
    "stress = {'sigx': 12.0, 'sigy': -5.5, 'tau': 3.50}\n",
    "\n",
    "for i in range(81):\n",
    "    theta.append(theta[-1]+dth)\n",
    "\n",
    "for th in theta:\n",
    "    stress2.append(stressTransform(stress, th))\n",
    "\n",
    "for item in zip(theta, stress2):\n",
    "    print(\"{:6.2f} {:8.4f} {:8.4f} {:8.4f}\".format(item[0], item[1]['sigx'], item[1]['sigy'], item[1]['tau']))"
   ]
  },
  {
   "cell_type": "markdown",
   "metadata": {},
   "source": [
    "## Homework questions\n",
    "\n",
    "We can all learn from your questions!"
   ]
  },
  {
   "cell_type": "code",
   "execution_count": null,
   "metadata": {},
   "outputs": [],
   "source": []
  }
 ],
 "metadata": {
  "kernelspec": {
   "display_name": "Python 3",
   "language": "python",
   "name": "python3"
  },
  "language_info": {
   "codemirror_mode": {
    "name": "ipython",
    "version": 3
   },
   "file_extension": ".py",
   "mimetype": "text/x-python",
   "name": "python",
   "nbconvert_exporter": "python",
   "pygments_lexer": "ipython3",
   "version": "3.9.0"
  }
 },
 "nbformat": 4,
 "nbformat_minor": 4
}

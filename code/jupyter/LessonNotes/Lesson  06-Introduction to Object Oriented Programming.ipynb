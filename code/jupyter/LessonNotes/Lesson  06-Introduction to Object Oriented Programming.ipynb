{
 "cells": [
  {
   "cell_type": "markdown",
   "metadata": {},
   "source": [
    "# A Python Quick Start Tutorial\n",
    "# Lesson \\#6 :  Introduction to Object Oriented Programming (OOP)\n",
    "## by Peter Mackenzie-Helnwein\n",
    "University of Washington, Seattle, WA\n",
    "\n",
    "pmackenz@uw.edu          \n",
    "https://www.ce.washington.edu/facultyfinder/peter-mackenzie-helnwein"
   ]
  },
  {
   "cell_type": "markdown",
   "metadata": {},
   "source": [
    "## Resources (reminder)\n",
    "   \n",
    "   1. Python Docs: https://docs.python.org/3/\n",
    "   \n",
    "   1. Python Tutorial (comprehensive): https://docs.python.org/3/tutorial/index.html\n",
    "   \n",
    "   1. <font color=red>**Classes**</font>: https://docs.python.org/3/tutorial/classes.html#a-first-look-at-classes\n",
    "   \n",
    "   1. Python Library Reference (the nitty-gritty details): https://docs.python.org/3/library/index.html\n",
    "   \n",
    "   1. Everything else: http://google.com\n",
    "   "
   ]
  },
  {
   "cell_type": "markdown",
   "metadata": {},
   "source": [
    "## Homework Questions & Discussion\n",
    "\n",
    "Reserving time for questions on Assignment \\#4\n",
    "\n",
    "..."
   ]
  },
  {
   "cell_type": "markdown",
   "metadata": {},
   "source": [
    "## Discussing questions from the self-study assignment\n",
    "\n",
    "This section is to discuss your questions\n"
   ]
  },
  {
   "cell_type": "markdown",
   "metadata": {},
   "source": [
    "### Exercise 1:  Thinking about Objects\n",
    "\n",
    "**Given**:\n",
    "\n",
    "A large project requires collaboration of multiple companies and administrative entities.  Each of these collaborators will have to manage their own company, do internal business, and business with (one or many) customers.  Each entity will require their own internal organization, hold protected and public information, conduct their business, and communicate and coordinate with customers.\n",
    "\n",
    "\n",
    "**Your Task**:\n",
    "\n",
    "Each team represents one company:\n",
    "* Breakout Room \\#1: ***'BIG BANK'***, a large financial institution.\n",
    "* Breakout Room \\#2: ***'PAVE A AWAY'***, a construction firm specializing in road construction.\n",
    "* Breakout Room \\#3: ***'WIDE SPAN'***, a company specializing in concrete bridge construction.\n",
    "* Breakout Room \\#4: ***'ENGI-NERDS'***, a large structural analysis firm.\n",
    "\n",
    "Discuss the following and enter the answers in the provided google sheet.\n",
    "1. What kind of **internal** information do you keep?\n",
    "1. What kind of **public per customer** information do you keep?\n",
    "1. What kind of **public for everybody** information do you keep?\n",
    "1. What kind of **internal/private** tasks does your company  do?\n",
    "1. What kind of **public** tasks does your company  do?\n",
    "\n",
    "- Shared work sheet: https://docs.google.com/spreadsheets/d/1L8sMNIizG5wpyNwhykgAmgTtmTOxON5unv1EAfasi6M/edit?usp=sharing\n",
    "\n"
   ]
  },
  {
   "cell_type": "markdown",
   "metadata": {},
   "source": [
    "### Exercise 2:  Thinking about access functions\n",
    "\n",
    "Now that you have established your company's setup, let's look what it takes to actually conduct some business.\n",
    "\n",
    "**Your Task**:\n",
    "\n",
    "Discuss the following and enter the answers in the provided google sheet.\n",
    "1. What kind of **requests** should your company receive?\n",
    "1. What kind of **services** will your company provide? (response to requests)\n",
    "1. What kind of **requests** should your company post toward other companies?\n",
    "\n",
    "- Shared work sheet: https://docs.google.com/spreadsheets/d/1L8sMNIizG5wpyNwhykgAmgTtmTOxON5unv1EAfasi6M/edit?usp=sharing\n"
   ]
  },
  {
   "cell_type": "markdown",
   "metadata": {},
   "source": [
    "### Exercise 3: Defining an object in Python\n",
    "\n",
    "In python, pretty much everything is an object - defined as a `class`.  Classes can go from very simple to very complex.  Let's start by creating an extensed data type that holds data in a form:\n",
    "\n",
    "| data      | variable     | type       |\n",
    "|:----------|:-------------|:-----------|\n",
    "| first name | `_.first_name` | string | \n",
    "| last name | `_.last_name` | string | \n",
    "| email | `_.email` | string | \n",
    "| phone number | `_.phone` | string |\n",
    "| year of birth | `_.YOB` | integer | \n",
    "\n",
    "`_` stands for any variable name representing an instance of the class.\n",
    "\n",
    "**Your tasks**:\n",
    "1. Use the provided template and add the missing variables.\n",
    "1. Why "
   ]
  },
  {
   "cell_type": "code",
   "execution_count": 17,
   "metadata": {},
   "outputs": [],
   "source": [
    "class MyDataType():\n",
    "    \n",
    "    def __init__(self):\n",
    "        self.first_name = 'Jane'\n",
    "        self.last_name  = 'Doe'\n",
    "        self.email      = 'jane.done@gmail.com'\n",
    "        self.phone      = '111-111-1111'\n",
    "        self.YOB        = 2000\n",
    "    \n",
    "    def __str__(self):\n",
    "        s =  \"Name : {:6} {:6}\\n\".format(self.first_name, self.last_name)\n",
    "        s += \"Email: {:20}\\n\".format(self.email)\n",
    "        s += \"Phone: {:20}\\n\".format(self.phone)\n",
    "        s += \"YOB  : {:4}\\n\".format(self.YOB)\n",
    "        return s\n",
    "    \n",
    "    def __repr__(self):\n",
    "        s = {\"First name\": self.first_name,\n",
    "             \"Last name\": self.last_name,\n",
    "             \"Email\": self.email,\n",
    "             \"Phone\": self.phone,\n",
    "             \"YOB\": self.YOB}\n",
    "        return s"
   ]
  },
  {
   "cell_type": "markdown",
   "metadata": {},
   "source": [
    "**How to use this**:\n",
    "\n",
    "Executing the above cell did not produce any output.  Actually, it didn't run any code either but instead defined the class.  Things will be executed once we create some instances of that class.\n",
    "\n",
    "1. create two instances or `MyDataType` named `student1` and `student1`.\n",
    "1. modify the ***instance*** `student2` to hold your information.\n",
    "1. create a print statement that shows all the information stored for ***both*** instances"
   ]
  },
  {
   "cell_type": "code",
   "execution_count": 18,
   "metadata": {},
   "outputs": [],
   "source": [
    "student1 = MyDataType()\n",
    "student2 = MyDataType()\n",
    "\n",
    "# YOUR CODE HERE\n",
    "student2.first_name = 'Ming'\n",
    "student2.last_name  = 'Yang'\n",
    "student2.email      = 'ykevin09@gmail.com'\n",
    "student2.phone      = '604-618-3785'\n",
    "student2.YOB        = 1990"
   ]
  },
  {
   "cell_type": "code",
   "execution_count": 23,
   "metadata": {},
   "outputs": [
    {
     "name": "stdout",
     "output_type": "stream",
     "text": [
      "Name : Jane   Doe   \n",
      "Email: jane.done@gmail.com \n",
      "Phone: 111-111-1111        \n",
      "YOB  : 2000\n",
      "\n",
      "{'First name': 'Jane', 'Last name': 'Doe', 'Email': 'jane.done@gmail.com', 'Phone': '111-111-1111', 'YOB': 2000}\n",
      "Name : Ming   Yang  \n",
      "Email: ykevin09@gmail.com  \n",
      "Phone: 604-618-3785        \n",
      "YOB  : 1990\n",
      "\n"
     ]
    }
   ],
   "source": [
    "print(student1)\n",
    "\n",
    "print(student1.__repr__())\n",
    "\n",
    "print(student2)"
   ]
  },
  {
   "cell_type": "code",
   "execution_count": 24,
   "metadata": {},
   "outputs": [
    {
     "name": "stdout",
     "output_type": "stream",
     "text": [
      "Name : Jane   Doe   \n",
      "Email: jane.done@gmail.com \n",
      "Phone: 111-111-1111        \n",
      "YOB  : 2000\n",
      "\n"
     ]
    }
   ],
   "source": [
    "print(str(student1))"
   ]
  },
  {
   "cell_type": "code",
   "execution_count": null,
   "metadata": {},
   "outputs": [],
   "source": []
  }
 ],
 "metadata": {
  "kernelspec": {
   "display_name": "Python 3",
   "language": "python",
   "name": "python3"
  },
  "language_info": {
   "codemirror_mode": {
    "name": "ipython",
    "version": 3
   },
   "file_extension": ".py",
   "mimetype": "text/x-python",
   "name": "python",
   "nbconvert_exporter": "python",
   "pygments_lexer": "ipython3",
<<<<<<< HEAD
   "version": "3.9.0"
=======
   "version": "3.8.6"
>>>>>>> upstream/master
  }
 },
 "nbformat": 4,
 "nbformat_minor": 4
}
